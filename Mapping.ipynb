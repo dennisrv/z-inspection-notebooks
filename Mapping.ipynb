{
 "cells": [
  {
   "cell_type": "markdown",
   "id": "0f525524",
   "metadata": {},
   "source": [
    "Install required packages"
   ]
  },
  {
   "cell_type": "code",
   "execution_count": null,
   "id": "9e353046",
   "metadata": {},
   "outputs": [],
   "source": [
    "#!pip install pandas scikit-learn sentence-transformers pyvis"
   ]
  },
  {
   "cell_type": "markdown",
   "id": "405bd5e6",
   "metadata": {},
   "source": [
    "sentence-transformers package needs torch, tensorflow or jax available as backend\n",
    "I used torch"
   ]
  },
  {
   "cell_type": "code",
   "execution_count": null,
   "id": "c03c9f44",
   "metadata": {},
   "outputs": [],
   "source": [
    "#!pip install torch"
   ]
  },
  {
   "cell_type": "code",
   "execution_count": null,
   "id": "1b10d459",
   "metadata": {},
   "outputs": [],
   "source": [
    "import pandas as pd"
   ]
  },
  {
   "cell_type": "code",
   "execution_count": null,
   "id": "3809bbbf",
   "metadata": {},
   "outputs": [],
   "source": [
    "ISSUES_FILE = './all_issues.csv'\n",
    "issue_data = pd.read_csv(ISSUES_FILE)\n",
    "issue_data.head()"
   ]
  },
  {
   "cell_type": "code",
   "execution_count": null,
   "id": "7f1d4496",
   "metadata": {},
   "outputs": [],
   "source": [
    "issue_data[\"name\"] = issue_data[\"ID\"] + \" - \" + issue_data[\"WG\"]\n",
    "issue_data[\"text\"] = issue_data[\"Title\"] + \" - \" + issue_data[\"Description\"]\n",
    "issue_data.head()"
   ]
  },
  {
   "cell_type": "code",
   "execution_count": null,
   "id": "fe1a73f3",
   "metadata": {},
   "outputs": [],
   "source": [
    "issue_data_all = issue_data.copy()\n",
    "issue_data.drop_duplicates(subset=['ID', 'WG'], inplace=True, ignore_index=True)\n",
    "issue_data.head()"
   ]
  },
  {
   "cell_type": "code",
   "execution_count": null,
   "id": "bc4b3ace",
   "metadata": {},
   "outputs": [],
   "source": [
    "from sentence_transformers import SentenceTransformer\n",
    "model = SentenceTransformer('all-MiniLM-L12-v1')"
   ]
  },
  {
   "cell_type": "code",
   "execution_count": null,
   "id": "b4ebf1d6",
   "metadata": {},
   "outputs": [],
   "source": [
    "issue_data[\"Embedding\"] = issue_data[\"text\"].apply(lambda x: model.encode(x))"
   ]
  },
  {
   "cell_type": "code",
   "execution_count": null,
   "id": "e5e832f3",
   "metadata": {},
   "outputs": [],
   "source": [
    "from sklearn.metrics.pairwise import cosine_similarity\n",
    "similarity = cosine_similarity(issue_data[\"Embedding\"].tolist())"
   ]
  },
  {
   "cell_type": "code",
   "execution_count": null,
   "id": "07ea30dc",
   "metadata": {},
   "outputs": [],
   "source": [
    "issue_data['WG'].unique()"
   ]
  },
  {
   "cell_type": "code",
   "execution_count": null,
   "id": "ed437bd1",
   "metadata": {},
   "outputs": [],
   "source": [
    "# 6 diverging colors, taken from https://colorbrewer2.org/#type=diverging&scheme=Spectral&n=6\n",
    "color_by_WG = {\n",
    "    'technical': '#d53e4f',\n",
    "    'social': '#fc8d59',\n",
    "    'Ethics': '#fee08b',\n",
    "    'ethics / healthcare': '#e6f598',\n",
    "    'radiologists': '#99d594',\n",
    "    'healthcare': '#3288bd'\n",
    "}\n",
    "issue_data['color'] = issue_data['WG'].map(lambda x: color_by_WG[x])\n",
    "issue_data.head()"
   ]
  },
  {
   "cell_type": "code",
   "execution_count": null,
   "id": "069e1c0f",
   "metadata": {},
   "outputs": [],
   "source": [
    "from pyvis import network as net\n",
    "import numpy as np\n",
    "top1_graph = net.Network(notebook=True, height='900px', width='100%', directed=True)\n",
    "top1_graph.barnes_hut(spring_length=100, spring_strength=0.1, central_gravity=8, overlap=1)\n",
    "# net.force_atlas_2based(spring_length=10)\n",
    "top1_graph.add_nodes(\n",
    "    issue_data.index, \n",
    "    title=issue_data['text'],\n",
    "    label=issue_data['name'],\n",
    "    color=issue_data['color'],\n",
    ")\n",
    "\n",
    "for src in range(len(issue_data.index)):\n",
    "    highest_similarity = np.argsort(-similarity[src,])[1:2] # self has highest similarity, find 5 others\n",
    "    for dest in highest_similarity:\n",
    "        top1_graph.add_edge(src, int(dest), value=float(similarity[src,dest]), arrowStrikethrough=False)\n",
    "\n",
    "top1_graph.show(\"top-1.html\")\n",
    "\n"
   ]
  },
  {
   "cell_type": "code",
   "execution_count": null,
   "id": "7df3adca",
   "metadata": {},
   "outputs": [],
   "source": [
    "top2_graph = net.Network(notebook=True, height='900px', width='100%', directed=True)\n",
    "top2_graph.barnes_hut(spring_length=100, spring_strength=0.1, central_gravity=2, overlap=1)\n",
    "# net.force_atlas_2based(spring_length=10)\n",
    "top2_graph.add_nodes(\n",
    "    issue_data.index, \n",
    "    title=issue_data['text'],\n",
    "    label=issue_data['name'],\n",
    "    color=issue_data['color']\n",
    ")\n",
    "\n",
    "for src in range(len(issue_data.index)):\n",
    "    highest_similarity = np.argsort(-similarity[src,])[1:3] # self has highest similarity, find 5 others\n",
    "    for dest in highest_similarity:\n",
    "        top2_graph.add_edge(src, int(dest), value=float(similarity[src,dest]), arrowStrikethrough=False)\n",
    "\n",
    "top2_graph.show(\"top-2.html\")"
   ]
  }
 ],
 "metadata": {
  "kernelspec": {
   "display_name": "Python 3 (ipykernel)",
   "language": "python",
   "name": "python3"
  },
  "language_info": {
   "codemirror_mode": {
    "name": "ipython",
    "version": 3
   },
   "file_extension": ".py",
   "mimetype": "text/x-python",
   "name": "python",
   "nbconvert_exporter": "python",
   "pygments_lexer": "ipython3",
   "version": "3.8.12"
  }
 },
 "nbformat": 4,
 "nbformat_minor": 5
}
